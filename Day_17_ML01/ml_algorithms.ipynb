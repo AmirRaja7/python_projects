{
 "cells": [
  {
   "cell_type": "markdown",
   "metadata": {},
   "source": [
    "# _Machine Learning_"
   ]
  },
  {
   "cell_type": "markdown",
   "metadata": {},
   "source": [
    "## _Types_\n",
    "1. Supervised Learning\n",
    "2. Unsupervised Learning\n",
    "3. Semi Supervised Learning\n",
    "4. Reinforcement Learning\n",
    "---\n",
    "### Algorithms of Supervised Learning\n",
    "1. Linear Regression\n",
    "* In this a variable(dependent) depends upon 1 or 2 or more Independent variables \n",
    "2. K-Nearest Neighbor\n",
    "* In this the machine connects nearest data points to form a cluster and predicts the required value with the help of its location from the nearest neighbors\n",
    "3. Support Vector Machine (SVM)\n",
    "* It draws a hyper plane in the data and separates data into 2 classes based on its distance from a hyper plane/ boundary decision line.\n",
    "4. Kernel SVM\n",
    "* \n",
    "5. Naive Bayes\n",
    "* In this the prediction is made on the basis of probability of provided data set e.g. is the probability of increase in sales if we provide Free Delivery on the weekend.\n",
    "6. Decision Tree Classification\n",
    "* In this classification the data splits from parent node to 2 nodes until it generates pure leaf node. Pure leaf node give completely executed and self explanatory data.\n",
    "7. Random Forest Classification\n",
    "* In this we generate various data trees from the training data to generate more accurate but complex results/ predictions.\n",
    "---\n",
    "### Algorithms of Un-Supervised Learning\n",
    "1. K-Mean Clustering\n",
    "* Grouping of individuals based on their common features or characteristics.\n",
    "2. Hierarchical clustering\n",
    "* In the method we build the hierarchy of clusters in a data set to make accurate predictions\n",
    "3. Probabilistic Clustering\n",
    "* In the method we assign soft point(not very accurate points) to make a cluster and predict the outcome of an input.\n",
    "---\n",
    "### Reinforcement Learning\n",
    "1. Model-free Learning\n",
    "       * Policy optimization\n",
    "       * Q-Learning \n",
    "2. Model -based Learning\n",
    "       * Learn the model\n",
    "       * Given the model"
   ]
  }
 ],
 "metadata": {
  "language_info": {
   "name": "python"
  },
  "orig_nbformat": 4
 },
 "nbformat": 4,
 "nbformat_minor": 2
}
