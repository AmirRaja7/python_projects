{
 "cells": [
  {
   "cell_type": "markdown",
   "id": "d7bb0e15",
   "metadata": {},
   "source": [
    "# ***# Project Name: EDA on  \"Punjab Crime Stats | 2002 - 2015\"***"
   ]
  },
  {
   "cell_type": "markdown",
   "id": "191fdc52",
   "metadata": {},
   "source": [
    "### Team Mentor: Muhammad Abdul Raheem\n",
    "\n",
    "### Team Members:\n",
    "\n",
    "* Muhammad Umer Mayal\n",
    "* Mohsin Abbas\n",
    "* Ms. Uniba\n",
    "* Ibrahim Azeem\n",
    "* Masood Ullah\n",
    "* Amir Raja\n",
    "* Ali Khan\n",
    "\n",
    "* Punjab Crime Stats | 2002 - 2015\n",
    "\n",
    "\n",
    "- The data presented here is unique, highlighting the crimes in Punjab province from 2002 to 2015. It tracks violations of law and order regulations committed by the citizens of Punjab Pakistan in all divisions. As a result of these data, we will be able to overview all the crimes committed and observe what particular situations occurred in that described area.\n",
    "  \n",
    "- By analyzing crime patterns across Punjab, we will try to identify what caused people to commit those crimes. Moreover, our team will investigate hidden patterns to determine if a particular crime occurs at a particular time of year. This will allow us to assist the police in maintaining law and order in the area by enforcing the necessary parameters to prevent such incidents. As a result, the Punjab Police will be able to maintain Law and Order in a better way and will ensure its citizens' safety.\n",
    "  \n",
    "## ***Dataset:***\n",
    "\n",
    "You can download the above mentioned dataset from the given link.\n",
    "https://www.kaggle.com/datasets/sayyazahmad/punjab-crime-stats-2002-2015"
   ]
  },
  {
   "cell_type": "markdown",
   "id": "77276d17",
   "metadata": {},
   "source": [
    "### 1. Importing Librbaries"
   ]
  },
  {
   "cell_type": "code",
   "execution_count": 3,
   "id": "05f713ea",
   "metadata": {},
   "outputs": [],
   "source": [
    "# pip install researchpy\n"
   ]
  },
  {
   "cell_type": "code",
   "execution_count": 2,
   "id": "b4622042",
   "metadata": {},
   "outputs": [
    {
     "ename": "ModuleNotFoundError",
     "evalue": "No module named 'researchpy'",
     "output_type": "error",
     "traceback": [
      "\u001b[1;31m---------------------------------------------------------------------------\u001b[0m",
      "\u001b[1;31mModuleNotFoundError\u001b[0m                       Traceback (most recent call last)",
      "\u001b[1;32md:\\Python ka Chilla Dobara\\Day_32 Team EDA\\presentation_eda_team_raheem.ipynb Cell 5\u001b[0m in \u001b[0;36m<cell line: 6>\u001b[1;34m()\u001b[0m\n\u001b[0;32m      <a href='vscode-notebook-cell:/d%3A/Python%20ka%20Chilla%20Dobara/Day_32%20Team%20EDA/presentation_eda_team_raheem.ipynb#W4sZmlsZQ%3D%3D?line=3'>4</a>\u001b[0m \u001b[39mimport\u001b[39;00m \u001b[39mmatplotlib\u001b[39;00m\u001b[39m.\u001b[39;00m\u001b[39mpyplot\u001b[39;00m \u001b[39mas\u001b[39;00m \u001b[39mplt\u001b[39;00m\n\u001b[0;32m      <a href='vscode-notebook-cell:/d%3A/Python%20ka%20Chilla%20Dobara/Day_32%20Team%20EDA/presentation_eda_team_raheem.ipynb#W4sZmlsZQ%3D%3D?line=4'>5</a>\u001b[0m \u001b[39mimport\u001b[39;00m \u001b[39mseaborn\u001b[39;00m \u001b[39mas\u001b[39;00m \u001b[39msns\u001b[39;00m\n\u001b[1;32m----> <a href='vscode-notebook-cell:/d%3A/Python%20ka%20Chilla%20Dobara/Day_32%20Team%20EDA/presentation_eda_team_raheem.ipynb#W4sZmlsZQ%3D%3D?line=5'>6</a>\u001b[0m \u001b[39mimport\u001b[39;00m \u001b[39mresearchpy\u001b[39;00m \u001b[39mas\u001b[39;00m \u001b[39mrp\u001b[39;00m\n\u001b[0;32m      <a href='vscode-notebook-cell:/d%3A/Python%20ka%20Chilla%20Dobara/Day_32%20Team%20EDA/presentation_eda_team_raheem.ipynb#W4sZmlsZQ%3D%3D?line=6'>7</a>\u001b[0m \u001b[39mfrom\u001b[39;00m \u001b[39mwarnings\u001b[39;00m \u001b[39mimport\u001b[39;00m filterwarnings\n\u001b[0;32m      <a href='vscode-notebook-cell:/d%3A/Python%20ka%20Chilla%20Dobara/Day_32%20Team%20EDA/presentation_eda_team_raheem.ipynb#W4sZmlsZQ%3D%3D?line=7'>8</a>\u001b[0m filterwarnings(\u001b[39m'\u001b[39m\u001b[39mignore\u001b[39m\u001b[39m'\u001b[39m)\n",
      "\u001b[1;31mModuleNotFoundError\u001b[0m: No module named 'researchpy'"
     ]
    }
   ],
   "source": [
    "# Importing libraries\n",
    "import pandas as pd\n",
    "import numpy as np\n",
    "import matplotlib.pyplot as plt\n",
    "import seaborn as sns\n",
    "import researchpy as rp\n",
    "from warnings import filterwarnings\n",
    "filterwarnings('ignore')"
   ]
  },
  {
   "cell_type": "markdown",
   "id": "a26d5fe0",
   "metadata": {},
   "source": [
    "### 2. Read the dataset"
   ]
  },
  {
   "cell_type": "code",
   "execution_count": null,
   "id": "80027d3d",
   "metadata": {},
   "outputs": [
    {
     "ename": "",
     "evalue": "",
     "output_type": "error",
     "traceback": [
      "\u001b[1;31mRunning cells with 'Python 3.11.0 64-bit' requires ipykernel package.\n",
      "\u001b[1;31mRun the following command to install 'ipykernel' into the Python environment. \n",
      "\u001b[1;31mCommand: 'c:/Users/Dell/AppData/Local/Programs/Python/Python311/python.exe -m pip install ipykernel -U --user --force-reinstall'"
     ]
    }
   ],
   "source": [
    "df=pd.read_csv('dataset.csv')\n",
    "df.head()"
   ]
  },
  {
   "cell_type": "code",
   "execution_count": null,
   "id": "7b02897f",
   "metadata": {},
   "outputs": [
    {
     "ename": "",
     "evalue": "",
     "output_type": "error",
     "traceback": [
      "\u001b[1;31mRunning cells with 'Python 3.11.0 64-bit' requires ipykernel package.\n",
      "\u001b[1;31mRun the following command to install 'ipykernel' into the Python environment. \n",
      "\u001b[1;31mCommand: 'c:/Users/Dell/AppData/Local/Programs/Python/Python311/python.exe -m pip install ipykernel -U --user --force-reinstall'"
     ]
    }
   ],
   "source": [
    "df.tail()"
   ]
  },
  {
   "cell_type": "markdown",
   "id": "5a0b928b",
   "metadata": {},
   "source": [
    "### 3. Basic Information about the dataset"
   ]
  },
  {
   "cell_type": "code",
   "execution_count": null,
   "id": "e7fe637a",
   "metadata": {},
   "outputs": [
    {
     "ename": "",
     "evalue": "",
     "output_type": "error",
     "traceback": [
      "\u001b[1;31mRunning cells with 'Python 3.11.0 64-bit' requires ipykernel package.\n",
      "\u001b[1;31mRun the following command to install 'ipykernel' into the Python environment. \n",
      "\u001b[1;31mCommand: 'c:/Users/Dell/AppData/Local/Programs/Python/Python311/python.exe -m pip install ipykernel -U --user --force-reinstall'"
     ]
    }
   ],
   "source": [
    "df.info()"
   ]
  },
  {
   "cell_type": "markdown",
   "id": "42848b46",
   "metadata": {},
   "source": [
    "### 4. Checking for null values"
   ]
  },
  {
   "cell_type": "code",
   "execution_count": null,
   "id": "028a080a",
   "metadata": {},
   "outputs": [
    {
     "ename": "",
     "evalue": "",
     "output_type": "error",
     "traceback": [
      "\u001b[1;31mRunning cells with 'Python 3.11.0 64-bit' requires ipykernel package.\n",
      "\u001b[1;31mRun the following command to install 'ipykernel' into the Python environment. \n",
      "\u001b[1;31mCommand: 'c:/Users/Dell/AppData/Local/Programs/Python/Python311/python.exe -m pip install ipykernel -U --user --force-reinstall'"
     ]
    }
   ],
   "source": [
    "df.isnull().sum()"
   ]
  },
  {
   "cell_type": "markdown",
   "id": "6e8f0b49",
   "metadata": {},
   "source": [
    "### 5. Types Casting"
   ]
  },
  {
   "cell_type": "code",
   "execution_count": null,
   "id": "1860be12",
   "metadata": {},
   "outputs": [
    {
     "ename": "",
     "evalue": "",
     "output_type": "error",
     "traceback": [
      "\u001b[1;31mRunning cells with 'Python 3.11.0 64-bit' requires ipykernel package.\n",
      "\u001b[1;31mRun the following command to install 'ipykernel' into the Python environment. \n",
      "\u001b[1;31mCommand: 'c:/Users/Dell/AppData/Local/Programs/Python/Python311/python.exe -m pip install ipykernel -U --user --force-reinstall'"
     ]
    }
   ],
   "source": [
    "df['Population']=df['Population'].astype('int64')\n",
    "df.info()"
   ]
  },
  {
   "cell_type": "markdown",
   "id": "f35f0871",
   "metadata": {},
   "source": [
    "### 5. Description of Dataset"
   ]
  },
  {
   "cell_type": "code",
   "execution_count": null,
   "id": "39fa0599",
   "metadata": {
    "scrolled": true
   },
   "outputs": [
    {
     "ename": "",
     "evalue": "",
     "output_type": "error",
     "traceback": [
      "\u001b[1;31mRunning cells with 'Python 3.11.0 64-bit' requires ipykernel package.\n",
      "\u001b[1;31mRun the following command to install 'ipykernel' into the Python environment. \n",
      "\u001b[1;31mCommand: 'c:/Users/Dell/AppData/Local/Programs/Python/Python311/python.exe -m pip install ipykernel -U --user --force-reinstall'"
     ]
    }
   ],
   "source": [
    "df.describe()"
   ]
  },
  {
   "cell_type": "markdown",
   "id": "fb31fd65",
   "metadata": {},
   "source": [
    "### 6. Unique Values"
   ]
  },
  {
   "cell_type": "code",
   "execution_count": null,
   "id": "fd7ad2ec",
   "metadata": {},
   "outputs": [
    {
     "ename": "",
     "evalue": "",
     "output_type": "error",
     "traceback": [
      "\u001b[1;31mRunning cells with 'Python 3.11.0 64-bit' requires ipykernel package.\n",
      "\u001b[1;31mRun the following command to install 'ipykernel' into the Python environment. \n",
      "\u001b[1;31mCommand: 'c:/Users/Dell/AppData/Local/Programs/Python/Python311/python.exe -m pip install ipykernel -U --user --force-reinstall'"
     ]
    }
   ],
   "source": [
    "df.nunique()"
   ]
  },
  {
   "cell_type": "markdown",
   "id": "b21b1803",
   "metadata": {},
   "source": [
    "### 7. Values Count on Divisions"
   ]
  },
  {
   "cell_type": "code",
   "execution_count": null,
   "id": "601cc66d",
   "metadata": {},
   "outputs": [
    {
     "ename": "",
     "evalue": "",
     "output_type": "error",
     "traceback": [
      "\u001b[1;31mRunning cells with 'Python 3.11.0 64-bit' requires ipykernel package.\n",
      "\u001b[1;31mRun the following command to install 'ipykernel' into the Python environment. \n",
      "\u001b[1;31mCommand: 'c:/Users/Dell/AppData/Local/Programs/Python/Python311/python.exe -m pip install ipykernel -U --user --force-reinstall'"
     ]
    }
   ],
   "source": [
    "df['Division'].value_counts()"
   ]
  },
  {
   "cell_type": "markdown",
   "id": "d2ca6d37",
   "metadata": {},
   "source": [
    "### 8. Total Crime Count"
   ]
  },
  {
   "cell_type": "code",
   "execution_count": null,
   "id": "292ff8ca",
   "metadata": {},
   "outputs": [
    {
     "ename": "",
     "evalue": "",
     "output_type": "error",
     "traceback": [
      "\u001b[1;31mRunning cells with 'Python 3.11.0 64-bit' requires ipykernel package.\n",
      "\u001b[1;31mRun the following command to install 'ipykernel' into the Python environment. \n",
      "\u001b[1;31mCommand: 'c:/Users/Dell/AppData/Local/Programs/Python/Python311/python.exe -m pip install ipykernel -U --user --force-reinstall'"
     ]
    }
   ],
   "source": [
    "df['CrimeType'].value_counts().head(10)"
   ]
  },
  {
   "cell_type": "code",
   "execution_count": null,
   "id": "262fb484",
   "metadata": {},
   "outputs": [
    {
     "ename": "",
     "evalue": "",
     "output_type": "error",
     "traceback": [
      "\u001b[1;31mRunning cells with 'Python 3.11.0 64-bit' requires ipykernel package.\n",
      "\u001b[1;31mRun the following command to install 'ipykernel' into the Python environment. \n",
      "\u001b[1;31mCommand: 'c:/Users/Dell/AppData/Local/Programs/Python/Python311/python.exe -m pip install ipykernel -U --user --force-reinstall'"
     ]
    }
   ],
   "source": [
    "df.duplicated().sum()"
   ]
  },
  {
   "cell_type": "code",
   "execution_count": null,
   "id": "1671cccd",
   "metadata": {},
   "outputs": [
    {
     "ename": "",
     "evalue": "",
     "output_type": "error",
     "traceback": [
      "\u001b[1;31mRunning cells with 'Python 3.11.0 64-bit' requires ipykernel package.\n",
      "\u001b[1;31mRun the following command to install 'ipykernel' into the Python environment. \n",
      "\u001b[1;31mCommand: 'c:/Users/Dell/AppData/Local/Programs/Python/Python311/python.exe -m pip install ipykernel -U --user --force-reinstall'"
     ]
    }
   ],
   "source": [
    "numeric_df=df[['CrimeCount','Population']]\n",
    "categoric_df=df[['Division','District','CrimeType','Year']]"
   ]
  },
  {
   "cell_type": "code",
   "execution_count": null,
   "id": "c6180f87",
   "metadata": {},
   "outputs": [
    {
     "ename": "",
     "evalue": "",
     "output_type": "error",
     "traceback": [
      "\u001b[1;31mRunning cells with 'Python 3.11.0 64-bit' requires ipykernel package.\n",
      "\u001b[1;31mRun the following command to install 'ipykernel' into the Python environment. \n",
      "\u001b[1;31mCommand: 'c:/Users/Dell/AppData/Local/Programs/Python/Python311/python.exe -m pip install ipykernel -U --user --force-reinstall'"
     ]
    }
   ],
   "source": [
    "numeric_df.head()"
   ]
  },
  {
   "cell_type": "code",
   "execution_count": null,
   "id": "892b8cc7",
   "metadata": {},
   "outputs": [
    {
     "ename": "",
     "evalue": "",
     "output_type": "error",
     "traceback": [
      "\u001b[1;31mRunning cells with 'Python 3.11.0 64-bit' requires ipykernel package.\n",
      "\u001b[1;31mRun the following command to install 'ipykernel' into the Python environment. \n",
      "\u001b[1;31mCommand: 'c:/Users/Dell/AppData/Local/Programs/Python/Python311/python.exe -m pip install ipykernel -U --user --force-reinstall'"
     ]
    }
   ],
   "source": [
    "categoric_df.head()"
   ]
  },
  {
   "cell_type": "markdown",
   "id": "da831510",
   "metadata": {},
   "source": [
    "**Data Visualaziation / Insights**\n",
    "---\n",
    "Univariate Analysis:<br>\n",
    " ---\n",
    " \n",
    "**Checking the normal distribution**<br>\n"
   ]
  },
  {
   "cell_type": "markdown",
   "id": "65674cf1",
   "metadata": {},
   "source": [
    "**Interpetation**\n",
    "\n",
    "The column is left skewed or positively skewed and have less skewness."
   ]
  },
  {
   "cell_type": "markdown",
   "id": "7ec60426",
   "metadata": {},
   "source": [
    "## Skewness and Kurtosis before and After Normalization"
   ]
  },
  {
   "cell_type": "code",
   "execution_count": null,
   "id": "7e399ff8",
   "metadata": {},
   "outputs": [
    {
     "ename": "",
     "evalue": "",
     "output_type": "error",
     "traceback": [
      "\u001b[1;31mRunning cells with 'Python 3.11.0 64-bit' requires ipykernel package.\n",
      "\u001b[1;31mRun the following command to install 'ipykernel' into the Python environment. \n",
      "\u001b[1;31mCommand: 'c:/Users/Dell/AppData/Local/Programs/Python/Python311/python.exe -m pip install ipykernel -U --user --force-reinstall'"
     ]
    }
   ],
   "source": [
    "sns.histplot(x='Population',data=numeric_df)\n",
    "print('Skewness and Kurtosis Before Normalization')\n",
    "df['CrimeCount'].skew(),df['Population'].kurtosis()"
   ]
  },
  {
   "cell_type": "code",
   "execution_count": null,
   "id": "97c27dd4",
   "metadata": {},
   "outputs": [
    {
     "ename": "",
     "evalue": "",
     "output_type": "error",
     "traceback": [
      "\u001b[1;31mRunning cells with 'Python 3.11.0 64-bit' requires ipykernel package.\n",
      "\u001b[1;31mRun the following command to install 'ipykernel' into the Python environment. \n",
      "\u001b[1;31mCommand: 'c:/Users/Dell/AppData/Local/Programs/Python/Python311/python.exe -m pip install ipykernel -U --user --force-reinstall'"
     ]
    }
   ],
   "source": [
    "cbrt_transformation = np.cbrt(df['CrimeCount'])\n",
    "sns.histplot(cbrt_transformation)"
   ]
  },
  {
   "cell_type": "code",
   "execution_count": null,
   "id": "e28d5d9d",
   "metadata": {},
   "outputs": [
    {
     "ename": "",
     "evalue": "",
     "output_type": "error",
     "traceback": [
      "\u001b[1;31mRunning cells with 'Python 3.11.0 64-bit' requires ipykernel package.\n",
      "\u001b[1;31mRun the following command to install 'ipykernel' into the Python environment. \n",
      "\u001b[1;31mCommand: 'c:/Users/Dell/AppData/Local/Programs/Python/Python311/python.exe -m pip install ipykernel -U --user --force-reinstall'"
     ]
    }
   ],
   "source": [
    "Skewness,Kurtosis=cbrt_transformation.skew(),cbrt_transformation.kurtosis()\n",
    "print(' Skewness after Normalization =', Skewness)\n",
    "print(' Kurtosis after Normalization =', Kurtosis)"
   ]
  },
  {
   "cell_type": "markdown",
   "id": "f8d90ebc",
   "metadata": {},
   "source": [
    "### Histogram of Orignal and Transformed Data"
   ]
  },
  {
   "cell_type": "code",
   "execution_count": null,
   "id": "db9a4bd3",
   "metadata": {},
   "outputs": [
    {
     "ename": "",
     "evalue": "",
     "output_type": "error",
     "traceback": [
      "\u001b[1;31mRunning cells with 'Python 3.11.0 64-bit' requires ipykernel package.\n",
      "\u001b[1;31mRun the following command to install 'ipykernel' into the Python environment. \n",
      "\u001b[1;31mCommand: 'c:/Users/Dell/AppData/Local/Programs/Python/Python311/python.exe -m pip install ipykernel -U --user --force-reinstall'"
     ]
    }
   ],
   "source": [
    "#define grid of plots\n",
    "fig, axs = plt.subplots(nrows=1, ncols=2)\n",
    "\n",
    "#create histograms\n",
    "axs[0].hist(df['Population'], edgecolor='black')\n",
    "axs[1].hist(cbrt_transformation, edgecolor='black')\n",
    "#add title to each histogram\n",
    "axs[0].set_title('Original Data')\n",
    "axs[1].set_title('Transformed Data')"
   ]
  },
  {
   "cell_type": "code",
   "execution_count": null,
   "id": "cef73b52",
   "metadata": {},
   "outputs": [
    {
     "ename": "",
     "evalue": "",
     "output_type": "error",
     "traceback": [
      "\u001b[1;31mRunning cells with 'Python 3.11.0 64-bit' requires ipykernel package.\n",
      "\u001b[1;31mRun the following command to install 'ipykernel' into the Python environment. \n",
      "\u001b[1;31mCommand: 'c:/Users/Dell/AppData/Local/Programs/Python/Python311/python.exe -m pip install ipykernel -U --user --force-reinstall'"
     ]
    }
   ],
   "source": [
    "sns.histplot(x='CrimeCount',data=df)\n",
    "print('Skewness and Kurtosis Before Normalization')\n",
    "df['CrimeCount'].skew(),df['Population'].kurtosis()"
   ]
  },
  {
   "cell_type": "markdown",
   "id": "a7d7f404",
   "metadata": {},
   "source": [
    "## Log Transformation"
   ]
  },
  {
   "cell_type": "code",
   "execution_count": null,
   "id": "592b4601",
   "metadata": {},
   "outputs": [
    {
     "ename": "",
     "evalue": "",
     "output_type": "error",
     "traceback": [
      "\u001b[1;31mRunning cells with 'Python 3.11.0 64-bit' requires ipykernel package.\n",
      "\u001b[1;31mRun the following command to install 'ipykernel' into the Python environment. \n",
      "\u001b[1;31mCommand: 'c:/Users/Dell/AppData/Local/Programs/Python/Python311/python.exe -m pip install ipykernel -U --user --force-reinstall'"
     ]
    }
   ],
   "source": [
    "log_transformation=np.log(df['CrimeCount'])\n",
    "sns.histplot(log_transformation)"
   ]
  },
  {
   "cell_type": "code",
   "execution_count": null,
   "id": "c641fc02",
   "metadata": {},
   "outputs": [
    {
     "ename": "",
     "evalue": "",
     "output_type": "error",
     "traceback": [
      "\u001b[1;31mRunning cells with 'Python 3.11.0 64-bit' requires ipykernel package.\n",
      "\u001b[1;31mRun the following command to install 'ipykernel' into the Python environment. \n",
      "\u001b[1;31mCommand: 'c:/Users/Dell/AppData/Local/Programs/Python/Python311/python.exe -m pip install ipykernel -U --user --force-reinstall'"
     ]
    }
   ],
   "source": [
    "Skewness_Crime,Kurtosis_Crime=log_transformation.skew(),log_transformation.kurtosis()\n",
    "print(' Skewness after Normalization =', Skewness_Crime,'/0')\n",
    "print(' Kurtosis after Normalization =', Kurtosis_Crime,'/0')"
   ]
  },
  {
   "cell_type": "markdown",
   "id": "30dfd82c",
   "metadata": {},
   "source": [
    "***Bivariate Analysis:***\n",
    "  ---"
   ]
  },
  {
   "cell_type": "markdown",
   "id": "8ae8a48a",
   "metadata": {},
   "source": [
    "Bivariate analysis is stated to be an analysis of any concurrent relation between two variables or attributes."
   ]
  },
  {
   "cell_type": "code",
   "execution_count": null,
   "id": "ffe434f4",
   "metadata": {},
   "outputs": [
    {
     "ename": "",
     "evalue": "",
     "output_type": "error",
     "traceback": [
      "\u001b[1;31mRunning cells with 'Python 3.11.0 64-bit' requires ipykernel package.\n",
      "\u001b[1;31mRun the following command to install 'ipykernel' into the Python environment. \n",
      "\u001b[1;31mCommand: 'c:/Users/Dell/AppData/Local/Programs/Python/Python311/python.exe -m pip install ipykernel -U --user --force-reinstall'"
     ]
    }
   ],
   "source": [
    "rp.summary_cont(df['CrimeCount'].groupby(df['Population']))"
   ]
  },
  {
   "cell_type": "code",
   "execution_count": null,
   "id": "3ca7608d",
   "metadata": {
    "scrolled": true
   },
   "outputs": [
    {
     "ename": "",
     "evalue": "",
     "output_type": "error",
     "traceback": [
      "\u001b[1;31mRunning cells with 'Python 3.11.0 64-bit' requires ipykernel package.\n",
      "\u001b[1;31mRun the following command to install 'ipykernel' into the Python environment. \n",
      "\u001b[1;31mCommand: 'c:/Users/Dell/AppData/Local/Programs/Python/Python311/python.exe -m pip install ipykernel -U --user --force-reinstall'"
     ]
    }
   ],
   "source": [
    "df['Division'].value_counts()"
   ]
  },
  {
   "cell_type": "code",
   "execution_count": null,
   "id": "b7d5eaa1",
   "metadata": {},
   "outputs": [
    {
     "ename": "",
     "evalue": "",
     "output_type": "error",
     "traceback": [
      "\u001b[1;31mRunning cells with 'Python 3.11.0 64-bit' requires ipykernel package.\n",
      "\u001b[1;31mRun the following command to install 'ipykernel' into the Python environment. \n",
      "\u001b[1;31mCommand: 'c:/Users/Dell/AppData/Local/Programs/Python/Python311/python.exe -m pip install ipykernel -U --user --force-reinstall'"
     ]
    }
   ],
   "source": [
    "agg=df.groupby(['Year', 'CrimeType'])['CrimeCount'].sum().unstack().fillna(0)\n",
    "agg"
   ]
  },
  {
   "cell_type": "code",
   "execution_count": null,
   "id": "a42580fb",
   "metadata": {},
   "outputs": [
    {
     "ename": "",
     "evalue": "",
     "output_type": "error",
     "traceback": [
      "\u001b[1;31mRunning cells with 'Python 3.11.0 64-bit' requires ipykernel package.\n",
      "\u001b[1;31mRun the following command to install 'ipykernel' into the Python environment. \n",
      "\u001b[1;31mCommand: 'c:/Users/Dell/AppData/Local/Programs/Python/Python311/python.exe -m pip install ipykernel -U --user --force-reinstall'"
     ]
    }
   ],
   "source": [
    "#Pandas Stacked Bar Charts\n",
    "from matplotlib import pyplot as plt\n",
    "\n",
    "# Very simple one-liner using our agg_tips DataFrame.\n",
    "agg.plot(kind='bar', stacked=True)\n",
    "\n",
    "# Just add a title and rotate the x-axis labels to be horizontal.\n",
    "plt.title('Crime Count Based On Year')\n",
    "plt.xlabel(\"Year\")\n",
    "plt.ylabel(\"CrimeCount\")\n",
    "plt.xticks(rotation=0, ha='center')"
   ]
  },
  {
   "cell_type": "code",
   "execution_count": null,
   "id": "60965d77",
   "metadata": {
    "scrolled": false
   },
   "outputs": [
    {
     "ename": "",
     "evalue": "",
     "output_type": "error",
     "traceback": [
      "\u001b[1;31mRunning cells with 'Python 3.11.0 64-bit' requires ipykernel package.\n",
      "\u001b[1;31mRun the following command to install 'ipykernel' into the Python environment. \n",
      "\u001b[1;31mCommand: 'c:/Users/Dell/AppData/Local/Programs/Python/Python311/python.exe -m pip install ipykernel -U --user --force-reinstall'"
     ]
    }
   ],
   "source": [
    "#Approach to find causes and relation pearson law\n",
    "correlations = df.corr(method='pearson')\n",
    "import seaborn as sns\n",
    "import matplotlib.pyplot as plt\n",
    "sns.heatmap(correlations, cmap=\"coolwarm\")\n",
    "plt.show()"
   ]
  },
  {
   "cell_type": "markdown",
   "id": "ed869198",
   "metadata": {},
   "source": [
    "### ANOVA"
   ]
  },
  {
   "cell_type": "code",
   "execution_count": null,
   "id": "7c2e397d",
   "metadata": {},
   "outputs": [
    {
     "ename": "",
     "evalue": "",
     "output_type": "error",
     "traceback": [
      "\u001b[1;31mRunning cells with 'Python 3.11.0 64-bit' requires ipykernel package.\n",
      "\u001b[1;31mRun the following command to install 'ipykernel' into the Python environment. \n",
      "\u001b[1;31mCommand: 'c:/Users/Dell/AppData/Local/Programs/Python/Python311/python.exe -m pip install ipykernel -U --user --force-reinstall'"
     ]
    }
   ],
   "source": [
    "#Conduct the one-way ANOVA:\n",
    "# Importing library\n",
    "from scipy.stats import f_oneway\n",
    " # Performance when each of the engine\n",
    "# oil is applied\n",
    "stats1 =df[\"CrimeCount\"]\n",
    "stats2 =df[\"Population\"]\n",
    "# Conduct the one-way ANOVA\n",
    "f_oneway(stats1,stats2)"
   ]
  },
  {
   "cell_type": "markdown",
   "id": "ec284940",
   "metadata": {},
   "source": [
    "## Apply general statistic for probability distribution"
   ]
  },
  {
   "cell_type": "code",
   "execution_count": null,
   "id": "47a04112",
   "metadata": {
    "scrolled": true
   },
   "outputs": [
    {
     "ename": "",
     "evalue": "",
     "output_type": "error",
     "traceback": [
      "\u001b[1;31mRunning cells with 'Python 3.11.0 64-bit' requires ipykernel package.\n",
      "\u001b[1;31mRun the following command to install 'ipykernel' into the Python environment. \n",
      "\u001b[1;31mCommand: 'c:/Users/Dell/AppData/Local/Programs/Python/Python311/python.exe -m pip install ipykernel -U --user --force-reinstall'"
     ]
    }
   ],
   "source": [
    "#Apply general statistic for probability distribution\n",
    "import numpy as np\n",
    "import matplotlib.pyplot as plt\n",
    "from math import ceil, floor, sqrt\n",
    "\n",
    "def pdf(x, mu=0, sigma=1):\n",
    "    \"\"\"\n",
    "    Calculates the normal distribution's probability density \n",
    "    function (PDF).  \n",
    "\n",
    "    \"\"\"\n",
    "    term1 = 1.0 / ( sqrt(2*np.pi) * sigma )\n",
    "    term2 = np.exp( -0.5 * ( (x-mu)/sigma )**2 )\n",
    "    return term1 * term2\n",
    "\n",
    "\n",
    "# Drawing sample date poi\n",
    "##################################################\n",
    "\n",
    "# Random Gaussian data (mean=0, stdev=5)\n",
    "df = np.random.normal(loc=0, scale=5.0, size=30)\n",
    "df = np.random.normal(loc=2, scale=7.0, size=30)\n",
    "df.sort(), df.sort()\n",
    "\n",
    "min_val = floor(min(df+df))\n",
    "max_val = ceil(max(df+df))\n",
    "\n",
    "##################################################\n",
    "\n",
    "\n",
    "\n",
    "\n",
    "fig = plt.gcf()\n",
    "fig.set_size_inches(12,11)\n",
    "\n",
    "# Cumulative distributions, stepwise:\n",
    "plt.subplot(2,2,1)\n",
    "plt.step(np.concatenate([df, df[[-1]]]), np.arange(df.size+1), label='$\\mu=0, \\sigma=5$')\n",
    "plt.step(np.concatenate([df, df[[-1]]]), np.arange(df.size+1), label='$\\mu=2, \\sigma=7$') \n",
    "\n",
    "plt.title('30 samples from a random Gaussian distribution (cumulative)')\n",
    "plt.ylabel('Count')\n",
    "plt.xlabel('X-value')\n",
    "plt.legend(loc='upper left')\n",
    "plt.xlim([min_val, max_val])\n",
    "plt.ylim([0, df.size+1])\n",
    "plt.grid()\n",
    "\n",
    "# Cumulative distributions, smooth:\n",
    "plt.subplot(2,2,2)\n",
    "\n",
    "plt.plot(np.concatenate([df, df[[-1]]]), np.arange(df.size+1), label='$\\mu=0, \\sigma=5$')\n",
    "plt.plot(np.concatenate([df, df[[-1]]]), np.arange(df.size+1), label='$\\mu=2, \\sigma=7$') \n",
    "\n",
    "plt.title('30 samples from a random Gaussian (cumulative)')\n",
    "plt.ylabel('Count')\n",
    "plt.xlabel('X-value')\n",
    "plt.legend(loc='upper left')\n",
    "plt.xlim([min_val, max_val])\n",
    "plt.ylim([0, df.size+1])\n",
    "plt.grid()\n",
    "\n",
    "\n",
    "# Probability densities of the sample points function\n",
    "plt.subplot(2,2,3)\n",
    "\n",
    "pdf1 = pdf(df, mu=0, sigma=5)\n",
    "pdf2 = pdf(df, mu=2, sigma=7)\n",
    "plt.plot(df, pdf1, label='$\\mu=0, \\sigma=5$')\n",
    "plt.plot(df, pdf2, label='$\\mu=2, \\sigma=7$')\n",
    "\n",
    "plt.title('30 samples from a random Gaussian')\n",
    "plt.legend(loc='upper left')\n",
    "plt.xlabel('X-value')\n",
    "plt.ylabel('probability density')\n",
    "plt.xlim([min_val, max_val])\n",
    "plt.grid()\n",
    "\n",
    "\n",
    "# Probability density function\n",
    "plt.subplot(2,2,4)\n",
    "\n",
    "x = np.arange(min_val, max_val, 0.05)\n",
    "\n",
    "pdf1 = pdf(x, mu=0, sigma=5)\n",
    "pdf2 = pdf(x, mu=2, sigma=7)\n",
    "plt.plot(x, pdf1, label='$\\mu=0, \\sigma=5$')\n",
    "plt.plot(x, pdf2, label='$\\mu=2, \\sigma=7$')\n",
    "\n",
    "plt.title('PDFs of Gaussian distributions')\n",
    "plt.legend(loc='upper left')\n",
    "plt.xlabel('X-value')\n",
    "plt.ylabel('probability density')\n",
    "plt.xlim([min_val, max_val])\n",
    "plt.grid()\n",
    "\n",
    "plt.show()"
   ]
  },
  {
   "cell_type": "code",
   "execution_count": null,
   "id": "98a6473a",
   "metadata": {},
   "outputs": [
    {
     "ename": "",
     "evalue": "",
     "output_type": "error",
     "traceback": [
      "\u001b[1;31mRunning cells with 'Python 3.11.0 64-bit' requires ipykernel package.\n",
      "\u001b[1;31mRun the following command to install 'ipykernel' into the Python environment. \n",
      "\u001b[1;31mCommand: 'c:/Users/Dell/AppData/Local/Programs/Python/Python311/python.exe -m pip install ipykernel -U --user --force-reinstall'"
     ]
    }
   ],
   "source": [
    "df1=pd.read_csv(\"dataset.csv\")\n",
    "df1.columns"
   ]
  },
  {
   "cell_type": "markdown",
   "id": "dec934b6",
   "metadata": {},
   "source": [
    "### Distplot"
   ]
  },
  {
   "cell_type": "code",
   "execution_count": null,
   "id": "4f71dcbb",
   "metadata": {},
   "outputs": [
    {
     "ename": "",
     "evalue": "",
     "output_type": "error",
     "traceback": [
      "\u001b[1;31mRunning cells with 'Python 3.11.0 64-bit' requires ipykernel package.\n",
      "\u001b[1;31mRun the following command to install 'ipykernel' into the Python environment. \n",
      "\u001b[1;31mCommand: 'c:/Users/Dell/AppData/Local/Programs/Python/Python311/python.exe -m pip install ipykernel -U --user --force-reinstall'"
     ]
    }
   ],
   "source": [
    "#distplot\n",
    "sns.distplot(df1['CrimeCount'])"
   ]
  },
  {
   "cell_type": "code",
   "execution_count": null,
   "id": "51bc4e6e",
   "metadata": {},
   "outputs": [
    {
     "ename": "",
     "evalue": "",
     "output_type": "error",
     "traceback": [
      "\u001b[1;31mRunning cells with 'Python 3.11.0 64-bit' requires ipykernel package.\n",
      "\u001b[1;31mRun the following command to install 'ipykernel' into the Python environment. \n",
      "\u001b[1;31mCommand: 'c:/Users/Dell/AppData/Local/Programs/Python/Python311/python.exe -m pip install ipykernel -U --user --force-reinstall'"
     ]
    }
   ],
   "source": [
    "sns.distplot(df1['CrimeCount'], kde=False, bins=10)"
   ]
  },
  {
   "cell_type": "markdown",
   "id": "1f657478",
   "metadata": {},
   "source": [
    "### Joint plot"
   ]
  },
  {
   "cell_type": "code",
   "execution_count": null,
   "id": "584f487b",
   "metadata": {},
   "outputs": [
    {
     "ename": "",
     "evalue": "",
     "output_type": "error",
     "traceback": [
      "\u001b[1;31mRunning cells with 'Python 3.11.0 64-bit' requires ipykernel package.\n",
      "\u001b[1;31mRun the following command to install 'ipykernel' into the Python environment. \n",
      "\u001b[1;31mCommand: 'c:/Users/Dell/AppData/Local/Programs/Python/Python311/python.exe -m pip install ipykernel -U --user --force-reinstall'"
     ]
    }
   ],
   "source": [
    "#joint plot\n",
    "sns.jointplot(x='Year', y='CrimeCount', data=df1)"
   ]
  },
  {
   "cell_type": "code",
   "execution_count": null,
   "id": "c5f48934",
   "metadata": {},
   "outputs": [
    {
     "ename": "",
     "evalue": "",
     "output_type": "error",
     "traceback": [
      "\u001b[1;31mRunning cells with 'Python 3.11.0 64-bit' requires ipykernel package.\n",
      "\u001b[1;31mRun the following command to install 'ipykernel' into the Python environment. \n",
      "\u001b[1;31mCommand: 'c:/Users/Dell/AppData/Local/Programs/Python/Python311/python.exe -m pip install ipykernel -U --user --force-reinstall'"
     ]
    }
   ],
   "source": [
    "sns.jointplot(x='Year', y='CrimeCount', data=df1, kind='hex')"
   ]
  },
  {
   "cell_type": "code",
   "execution_count": null,
   "id": "e2649ef8",
   "metadata": {},
   "outputs": [
    {
     "ename": "",
     "evalue": "",
     "output_type": "error",
     "traceback": [
      "\u001b[1;31mRunning cells with 'Python 3.11.0 64-bit' requires ipykernel package.\n",
      "\u001b[1;31mRun the following command to install 'ipykernel' into the Python environment. \n",
      "\u001b[1;31mCommand: 'c:/Users/Dell/AppData/Local/Programs/Python/Python311/python.exe -m pip install ipykernel -U --user --force-reinstall'"
     ]
    }
   ],
   "source": [
    "sns.rugplot(df1['CrimeCount'])\n"
   ]
  },
  {
   "cell_type": "code",
   "execution_count": null,
   "id": "0ddf874a",
   "metadata": {},
   "outputs": [
    {
     "ename": "",
     "evalue": "",
     "output_type": "error",
     "traceback": [
      "\u001b[1;31mRunning cells with 'Python 3.11.0 64-bit' requires ipykernel package.\n",
      "\u001b[1;31mRun the following command to install 'ipykernel' into the Python environment. \n",
      "\u001b[1;31mCommand: 'c:/Users/Dell/AppData/Local/Programs/Python/Python311/python.exe -m pip install ipykernel -U --user --force-reinstall'"
     ]
    }
   ],
   "source": [
    "df1.columns"
   ]
  },
  {
   "cell_type": "markdown",
   "id": "09fd3ad1",
   "metadata": {},
   "source": [
    "### Boxplot"
   ]
  },
  {
   "cell_type": "code",
   "execution_count": null,
   "id": "74adff99",
   "metadata": {},
   "outputs": [
    {
     "ename": "",
     "evalue": "",
     "output_type": "error",
     "traceback": [
      "\u001b[1;31mRunning cells with 'Python 3.11.0 64-bit' requires ipykernel package.\n",
      "\u001b[1;31mRun the following command to install 'ipykernel' into the Python environment. \n",
      "\u001b[1;31mCommand: 'c:/Users/Dell/AppData/Local/Programs/Python/Python311/python.exe -m pip install ipykernel -U --user --force-reinstall'"
     ]
    }
   ],
   "source": [
    "sns.boxplot(x='Year', y='Population', data=df1)"
   ]
  },
  {
   "cell_type": "markdown",
   "id": "7e8fbda6",
   "metadata": {},
   "source": [
    "### Violin Plot"
   ]
  },
  {
   "cell_type": "code",
   "execution_count": null,
   "id": "8d4fd26b",
   "metadata": {},
   "outputs": [
    {
     "ename": "",
     "evalue": "",
     "output_type": "error",
     "traceback": [
      "\u001b[1;31mRunning cells with 'Python 3.11.0 64-bit' requires ipykernel package.\n",
      "\u001b[1;31mRun the following command to install 'ipykernel' into the Python environment. \n",
      "\u001b[1;31mCommand: 'c:/Users/Dell/AppData/Local/Programs/Python/Python311/python.exe -m pip install ipykernel -U --user --force-reinstall'"
     ]
    }
   ],
   "source": [
    "sns.violinplot(x='Year', y='Division', data=df1)"
   ]
  },
  {
   "cell_type": "markdown",
   "id": "aba2ecbc",
   "metadata": {},
   "source": [
    "### Stirplot"
   ]
  },
  {
   "cell_type": "code",
   "execution_count": null,
   "id": "0f4435e3",
   "metadata": {},
   "outputs": [
    {
     "ename": "",
     "evalue": "",
     "output_type": "error",
     "traceback": [
      "\u001b[1;31mRunning cells with 'Python 3.11.0 64-bit' requires ipykernel package.\n",
      "\u001b[1;31mRun the following command to install 'ipykernel' into the Python environment. \n",
      "\u001b[1;31mCommand: 'c:/Users/Dell/AppData/Local/Programs/Python/Python311/python.exe -m pip install ipykernel -U --user --force-reinstall'"
     ]
    }
   ],
   "source": [
    "sns.stripplot(x='Division', y='Year', data=df1)"
   ]
  },
  {
   "cell_type": "markdown",
   "id": "5cdc06fe",
   "metadata": {},
   "source": [
    "### Displot"
   ]
  },
  {
   "cell_type": "code",
   "execution_count": null,
   "id": "3c57572d",
   "metadata": {},
   "outputs": [
    {
     "ename": "",
     "evalue": "",
     "output_type": "error",
     "traceback": [
      "\u001b[1;31mRunning cells with 'Python 3.11.0 64-bit' requires ipykernel package.\n",
      "\u001b[1;31mRun the following command to install 'ipykernel' into the Python environment. \n",
      "\u001b[1;31mCommand: 'c:/Users/Dell/AppData/Local/Programs/Python/Python311/python.exe -m pip install ipykernel -U --user --force-reinstall'"
     ]
    }
   ],
   "source": [
    "sns.displot(data = df1, kind = 'kde', x = 'Year', hue = 'Division', height = 5, aspect = 1.75, palette = 'flare')"
   ]
  },
  {
   "cell_type": "code",
   "execution_count": null,
   "id": "e334de43",
   "metadata": {},
   "outputs": [
    {
     "ename": "",
     "evalue": "",
     "output_type": "error",
     "traceback": [
      "\u001b[1;31mRunning cells with 'Python 3.11.0 64-bit' requires ipykernel package.\n",
      "\u001b[1;31mRun the following command to install 'ipykernel' into the Python environment. \n",
      "\u001b[1;31mCommand: 'c:/Users/Dell/AppData/Local/Programs/Python/Python311/python.exe -m pip install ipykernel -U --user --force-reinstall'"
     ]
    }
   ],
   "source": [
    "df = pd.read_csv(\"Punjab-crime-stats.csv\")"
   ]
  },
  {
   "cell_type": "code",
   "execution_count": null,
   "id": "3c7d95c7",
   "metadata": {},
   "outputs": [
    {
     "ename": "",
     "evalue": "",
     "output_type": "error",
     "traceback": [
      "\u001b[1;31mRunning cells with 'Python 3.11.0 64-bit' requires ipykernel package.\n",
      "\u001b[1;31mRun the following command to install 'ipykernel' into the Python environment. \n",
      "\u001b[1;31mCommand: 'c:/Users/Dell/AppData/Local/Programs/Python/Python311/python.exe -m pip install ipykernel -U --user --force-reinstall'"
     ]
    }
   ],
   "source": [
    "import plotly_express as px\n",
    "df2 = df[df.CrimeType != \"All Reported\"]\n",
    "df2.head()\n",
    "df3=df2[df2[\"Division\"]==\"Sargodha\"]"
   ]
  },
  {
   "cell_type": "code",
   "execution_count": null,
   "id": "cc45aaf6",
   "metadata": {
    "cell_id": "ff6a6cb41bbf4e10ad553330dafc0d3d",
    "deepnote_cell_type": "code",
    "deepnote_to_be_reexecuted": true,
    "execution_millis": 271,
    "execution_start": 1668617044626,
    "source_hash": "e1f9e884",
    "tags": []
   },
   "outputs": [
    {
     "ename": "",
     "evalue": "",
     "output_type": "error",
     "traceback": [
      "\u001b[1;31mRunning cells with 'Python 3.11.0 64-bit' requires ipykernel package.\n",
      "\u001b[1;31mRun the following command to install 'ipykernel' into the Python environment. \n",
      "\u001b[1;31mCommand: 'c:/Users/Dell/AppData/Local/Programs/Python/Python311/python.exe -m pip install ipykernel -U --user --force-reinstall'"
     ]
    }
   ],
   "source": [
    "import seaborn as sns\n",
    "sns.set_theme(style=\"darkgrid\")\n",
    "\n",
    "sns.set_theme(style=\"ticks\", palette=\"pastel\")\n",
    "\n",
    "sns.boxplot(x=\"District\", y=\"CrimeCount\",\n",
    "            hue=\"Division\", palette=[\"m\", \"g\"],\n",
    "            data=df3)\n",
    "sns.despine(offset=10, trim=True)"
   ]
  },
  {
   "cell_type": "code",
   "execution_count": null,
   "id": "a1b7dc62",
   "metadata": {
    "cell_id": "799c04762f4c43ed948625a27f6b2ae1",
    "deepnote_cell_type": "code",
    "deepnote_to_be_reexecuted": true,
    "execution_millis": 1016,
    "execution_start": 1668617061323,
    "source_hash": "8a042cb9",
    "tags": []
   },
   "outputs": [
    {
     "ename": "",
     "evalue": "",
     "output_type": "error",
     "traceback": [
      "\u001b[1;31mRunning cells with 'Python 3.11.0 64-bit' requires ipykernel package.\n",
      "\u001b[1;31mRun the following command to install 'ipykernel' into the Python environment. \n",
      "\u001b[1;31mCommand: 'c:/Users/Dell/AppData/Local/Programs/Python/Python311/python.exe -m pip install ipykernel -U --user --force-reinstall'"
     ]
    }
   ],
   "source": [
    "# Plot the responses for different events and regions\n",
    "sns.lineplot(x=\"CrimeCount\", y=\"CrimeType\",\n",
    "             hue=\"District\", style=\"Year\",\n",
    "             data=df3)"
   ]
  },
  {
   "cell_type": "code",
   "execution_count": null,
   "id": "cb9ad035",
   "metadata": {
    "cell_id": "b129f410c02e4bbfa2e035da148570fb",
    "deepnote_cell_type": "code",
    "deepnote_to_be_reexecuted": true,
    "execution_millis": 1035,
    "execution_start": 1668617071984,
    "source_hash": "f495d489",
    "tags": []
   },
   "outputs": [
    {
     "ename": "",
     "evalue": "",
     "output_type": "error",
     "traceback": [
      "\u001b[1;31mRunning cells with 'Python 3.11.0 64-bit' requires ipykernel package.\n",
      "\u001b[1;31mRun the following command to install 'ipykernel' into the Python environment. \n",
      "\u001b[1;31mCommand: 'c:/Users/Dell/AppData/Local/Programs/Python/Python311/python.exe -m pip install ipykernel -U --user --force-reinstall'"
     ]
    }
   ],
   "source": [
    "#cases of murders reported from 2002 to 2014?\n",
    "sns.lineplot(x=\"Year\", y=\"CrimeCount\", hue=[\"CrimeCount\"]==\"Murder\", data=df3)"
   ]
  },
  {
   "cell_type": "code",
   "execution_count": null,
   "id": "a006a1c6",
   "metadata": {
    "cell_id": "122e235bfe434745bb178753bef0e688",
    "deepnote_cell_type": "code",
    "deepnote_to_be_reexecuted": true,
    "execution_millis": 1003,
    "execution_start": 1668617079176,
    "source_hash": "34b3c9f2",
    "tags": []
   },
   "outputs": [
    {
     "ename": "",
     "evalue": "",
     "output_type": "error",
     "traceback": [
      "\u001b[1;31mRunning cells with 'Python 3.11.0 64-bit' requires ipykernel package.\n",
      "\u001b[1;31mRun the following command to install 'ipykernel' into the Python environment. \n",
      "\u001b[1;31mCommand: 'c:/Users/Dell/AppData/Local/Programs/Python/Python311/python.exe -m pip install ipykernel -U --user --force-reinstall'"
     ]
    }
   ],
   "source": [
    "#Ratio of crimes in each districts.\n",
    "import plotly.express as px\n",
    "fig = px.bar(df3, x=\"District\", y=\"CrimeCount\", color=\"CrimeType\", barmode=\"group\")\n",
    "fig.show()"
   ]
  },
  {
   "cell_type": "code",
   "execution_count": null,
   "id": "cbf31b86",
   "metadata": {
    "cell_id": "896e66d314b94d35b476b370496c5323",
    "deepnote_cell_type": "code",
    "deepnote_to_be_reexecuted": true,
    "execution_millis": 1,
    "execution_start": 1668617091644,
    "source_hash": "bda77f3d",
    "tags": []
   },
   "outputs": [
    {
     "ename": "",
     "evalue": "",
     "output_type": "error",
     "traceback": [
      "\u001b[1;31mRunning cells with 'Python 3.11.0 64-bit' requires ipykernel package.\n",
      "\u001b[1;31mRun the following command to install 'ipykernel' into the Python environment. \n",
      "\u001b[1;31mCommand: 'c:/Users/Dell/AppData/Local/Programs/Python/Python311/python.exe -m pip install ipykernel -U --user --force-reinstall'"
     ]
    }
   ],
   "source": [
    "#number of cases\n",
    "import plotly.express as px\n",
    "data = df"
   ]
  },
  {
   "cell_type": "markdown",
   "id": "e19f208e",
   "metadata": {},
   "source": [
    "### Funnel Plot"
   ]
  },
  {
   "cell_type": "code",
   "execution_count": null,
   "id": "dea2714b",
   "metadata": {
    "cell_id": "e4b19db75c264d5bbbbdfe10efba76d1",
    "deepnote_cell_type": "code",
    "deepnote_to_be_reexecuted": true,
    "execution_millis": 78,
    "execution_start": 1668617095761,
    "source_hash": "909df953",
    "tags": []
   },
   "outputs": [
    {
     "ename": "",
     "evalue": "",
     "output_type": "error",
     "traceback": [
      "\u001b[1;31mRunning cells with 'Python 3.11.0 64-bit' requires ipykernel package.\n",
      "\u001b[1;31mRun the following command to install 'ipykernel' into the Python environment. \n",
      "\u001b[1;31mCommand: 'c:/Users/Dell/AppData/Local/Programs/Python/Python311/python.exe -m pip install ipykernel -U --user --force-reinstall'"
     ]
    }
   ],
   "source": [
    "fig = px.funnel(df, x='CrimeCount', y='CrimeType')\n",
    "fig.show()"
   ]
  },
  {
   "cell_type": "markdown",
   "id": "acd85286",
   "metadata": {},
   "source": [
    "### Pairplot"
   ]
  },
  {
   "cell_type": "code",
   "execution_count": null,
   "id": "13109c86",
   "metadata": {
    "cell_id": "e0bf2641c3b84edf83b0a95b657bebd6",
    "deepnote_cell_type": "code",
    "deepnote_to_be_reexecuted": true,
    "execution_millis": 2465,
    "execution_start": 1668617117530,
    "source_hash": "71ee0eed",
    "tags": []
   },
   "outputs": [
    {
     "ename": "",
     "evalue": "",
     "output_type": "error",
     "traceback": [
      "\u001b[1;31mRunning cells with 'Python 3.11.0 64-bit' requires ipykernel package.\n",
      "\u001b[1;31mRun the following command to install 'ipykernel' into the Python environment. \n",
      "\u001b[1;31mCommand: 'c:/Users/Dell/AppData/Local/Programs/Python/Python311/python.exe -m pip install ipykernel -U --user --force-reinstall'"
     ]
    }
   ],
   "source": [
    "import seaborn as sns\n",
    "sns.set_theme(style=\"ticks\")\n",
    "sns.pairplot(df3, hue=\"District\")"
   ]
  },
  {
   "cell_type": "markdown",
   "id": "48f3bc04",
   "metadata": {},
   "source": [
    "____________________________________________________________________________________________________________________"
   ]
  }
 ],
 "metadata": {
  "kernelspec": {
   "display_name": "Python 3.10.8 64-bit",
   "language": "python",
   "name": "python3"
  },
  "language_info": {
   "codemirror_mode": {
    "name": "ipython",
    "version": 3
   },
   "file_extension": ".py",
   "mimetype": "text/x-python",
   "name": "python",
   "nbconvert_exporter": "python",
   "pygments_lexer": "ipython3",
   "version": "3.10.8"
  },
  "vscode": {
   "interpreter": {
    "hash": "76d7c06053c3456e5600312cec90888656fc0ed30c03d8425b9dac6e4fc8e014"
   }
  }
 },
 "nbformat": 4,
 "nbformat_minor": 5
}
