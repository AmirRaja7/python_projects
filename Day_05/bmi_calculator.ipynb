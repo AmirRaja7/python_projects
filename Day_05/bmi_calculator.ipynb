{
 "cells": [
  {
   "cell_type": "markdown",
   "metadata": {},
   "source": [
    "## _BMI Calculator_\n",
    "## _3 Ways to write a function_"
   ]
  },
  {
   "cell_type": "code",
   "execution_count": 1,
   "metadata": {},
   "outputs": [
    {
     "name": "stdout",
     "output_type": "stream",
     "text": [
      "Your BMI is:  26.609712545078956\n",
      "You are overweight\n"
     ]
    }
   ],
   "source": [
    "#_01\n",
    "\n",
    "weight = float(input(\"Enter your weight in kg: \")) #to take height in cm as input\n",
    "height = float(input(\"Enter your height in cm: \")) #to take wight in kg as input\n",
    "\n",
    "def BMI(weight , height):\n",
    "    bmi_calc= weight/(height/100)**2\n",
    "    return bmi_calc\n",
    "\n",
    "if BMI(weight , height) <= 18.4:\n",
    "    print(\"Your BMI is: \", BMI(weight , height))\n",
    "    print(\"You are underweight\")\n",
    "elif BMI(weight , height) <= 24.9:\n",
    "    print(\"Your BMI is: \", BMI(weight , height))\n",
    "    print(\"You are healthy\")\n",
    "elif BMI(weight , height) <= 29.9:\n",
    "    print(\"Your BMI is: \", BMI(weight , height))\n",
    "    print(\"You are overweight\")\n",
    "elif BMI(weight , height) <= 34.9:\n",
    "    print(\"Your BMI is: \", BMI(weight , height))\n",
    "    print(\"You are obese\")\n",
    "elif BMI(weight , height) <= 39.9:\n",
    "    print(\"Your BMI is: \", BMI(weight , height))\n",
    "    print(\"You are extremely obese\")\n",
    "else:\n",
    "    print(\"Your BMI is: \", BMI(weight , height))\n",
    "    print(\"You need Exercise Schedule. Allah ki panah hai, kam khaya karo or excercisekia karo\")\n"
   ]
  },
  {
   "cell_type": "code",
   "execution_count": 2,
   "metadata": {},
   "outputs": [
    {
     "ename": "ValueError",
     "evalue": "could not convert string to float: ''",
     "output_type": "error",
     "traceback": [
      "\u001b[1;31m---------------------------------------------------------------------------\u001b[0m",
      "\u001b[1;31mValueError\u001b[0m                                Traceback (most recent call last)",
      "\u001b[1;32md:\\Python ka Chilla Dobara\\Day_05\\bmi_calculator.ipynb Cell 3\u001b[0m in \u001b[0;36m<cell line: 8>\u001b[1;34m()\u001b[0m\n\u001b[0;32m      <a href='vscode-notebook-cell:/d%3A/Python%20ka%20Chilla%20Dobara/Day_05/bmi_calculator.ipynb#W2sZmlsZQ%3D%3D?line=3'>4</a>\u001b[0m     bmi_calc\u001b[39m=\u001b[39m weight\u001b[39m/\u001b[39m(height\u001b[39m/\u001b[39m\u001b[39m100\u001b[39m)\u001b[39m*\u001b[39m\u001b[39m*\u001b[39m\u001b[39m2\u001b[39m\n\u001b[0;32m      <a href='vscode-notebook-cell:/d%3A/Python%20ka%20Chilla%20Dobara/Day_05/bmi_calculator.ipynb#W2sZmlsZQ%3D%3D?line=4'>5</a>\u001b[0m     \u001b[39mreturn\u001b[39;00m bmi_calc\n\u001b[1;32m----> <a href='vscode-notebook-cell:/d%3A/Python%20ka%20Chilla%20Dobara/Day_05/bmi_calculator.ipynb#W2sZmlsZQ%3D%3D?line=7'>8</a>\u001b[0m weight \u001b[39m=\u001b[39m \u001b[39mfloat\u001b[39;49m(\u001b[39minput\u001b[39;49m(\u001b[39m\"\u001b[39;49m\u001b[39mEnter your weight in kg: \u001b[39;49m\u001b[39m\"\u001b[39;49m)) \u001b[39m#to take height in cm as input\u001b[39;00m\n\u001b[0;32m      <a href='vscode-notebook-cell:/d%3A/Python%20ka%20Chilla%20Dobara/Day_05/bmi_calculator.ipynb#W2sZmlsZQ%3D%3D?line=8'>9</a>\u001b[0m height \u001b[39m=\u001b[39m \u001b[39mfloat\u001b[39m(\u001b[39minput\u001b[39m(\u001b[39m\"\u001b[39m\u001b[39mEnter your height in cm: \u001b[39m\u001b[39m\"\u001b[39m)) \u001b[39m#to take wight in kg as input\u001b[39;00m\n\u001b[0;32m     <a href='vscode-notebook-cell:/d%3A/Python%20ka%20Chilla%20Dobara/Day_05/bmi_calculator.ipynb#W2sZmlsZQ%3D%3D?line=9'>10</a>\u001b[0m \u001b[39mprint\u001b[39m(\u001b[39m\"\u001b[39m\u001b[39mYour BMI is: \u001b[39m\u001b[39m\"\u001b[39m, BMI(weight , height))\n",
      "\u001b[1;31mValueError\u001b[0m: could not convert string to float: ''"
     ]
    }
   ],
   "source": [
    "#_02\n",
    "\n",
    "def BMI(weight , height):\n",
    "    bmi_calc= weight/(height/100)**2\n",
    "    return bmi_calc\n",
    "\n",
    "\n",
    "weight = float(input(\"Enter your weight in kg: \")) #to take height in cm as input\n",
    "height = float(input(\"Enter your height in cm: \")) #to take wight in kg as input\n",
    "print(\"Your BMI is: \", BMI(weight , height))\n",
    "\n",
    "if BMI(weight , height) <= 18.4:\n",
    "        print(\"You are underweight\")\n",
    "elif BMI(weight , height) <= 24.9:\n",
    "        print(\"You are healthy\")\n",
    "elif BMI(weight , height) <= 29.9:\n",
    "        print(\"You are overweight\")\n",
    "elif BMI(weight , height) <= 34.9:\n",
    "        print(\"You are obese\")\n",
    "elif BMI(weight , height) <= 39.9:\n",
    "        print(\"You are extremely obese\")\n",
    "else:\n",
    "        print(\"You need Exercise Schedule. Allah ki panah hai, kam khaya karo or excercisekia karo\")\n"
   ]
  },
  {
   "cell_type": "code",
   "execution_count": null,
   "metadata": {},
   "outputs": [],
   "source": [
    "weight = float(input(\"Enter your weight in kg: \")) #to take height in cm as input\n",
    "height = float(input(\"Enter your height in cm: \")) #to take wight in kg as input"
   ]
  },
  {
   "cell_type": "code",
   "execution_count": null,
   "metadata": {},
   "outputs": [
    {
     "ename": "TypeError",
     "evalue": "'<=' not supported between instances of 'function' and 'float'",
     "output_type": "error",
     "traceback": [
      "\u001b[1;31m---------------------------------------------------------------------------\u001b[0m",
      "\u001b[1;31mTypeError\u001b[0m                                 Traceback (most recent call last)",
      "\u001b[1;32md:\\Python ka Chilla Dobara\\Day_05\\bmi_calculator.ipynb Cell 5\u001b[0m in \u001b[0;36m<cell line: 9>\u001b[1;34m()\u001b[0m\n\u001b[0;32m      <a href='vscode-notebook-cell:/d%3A/Python%20ka%20Chilla%20Dobara/Day_05/bmi_calculator.ipynb#X14sZmlsZQ%3D%3D?line=4'>5</a>\u001b[0m \u001b[39mdef\u001b[39;00m \u001b[39mbmi_calc\u001b[39m(weight , height):\n\u001b[0;32m      <a href='vscode-notebook-cell:/d%3A/Python%20ka%20Chilla%20Dobara/Day_05/bmi_calculator.ipynb#X14sZmlsZQ%3D%3D?line=5'>6</a>\u001b[0m     BMI\u001b[39m=\u001b[39m weight\u001b[39m/\u001b[39m((height\u001b[39m/\u001b[39m\u001b[39m100\u001b[39m)\u001b[39m*\u001b[39m\u001b[39m*\u001b[39m\u001b[39m2\u001b[39m)\n\u001b[1;32m----> <a href='vscode-notebook-cell:/d%3A/Python%20ka%20Chilla%20Dobara/Day_05/bmi_calculator.ipynb#X14sZmlsZQ%3D%3D?line=8'>9</a>\u001b[0m \u001b[39mif\u001b[39;00m BMI \u001b[39m<\u001b[39;49m\u001b[39m=\u001b[39;49m \u001b[39m18.4\u001b[39;49m:\n\u001b[0;32m     <a href='vscode-notebook-cell:/d%3A/Python%20ka%20Chilla%20Dobara/Day_05/bmi_calculator.ipynb#X14sZmlsZQ%3D%3D?line=9'>10</a>\u001b[0m         \u001b[39mprint\u001b[39m(\u001b[39m\"\u001b[39m\u001b[39mYou are underweight\u001b[39m\u001b[39m\"\u001b[39m)\n\u001b[0;32m     <a href='vscode-notebook-cell:/d%3A/Python%20ka%20Chilla%20Dobara/Day_05/bmi_calculator.ipynb#X14sZmlsZQ%3D%3D?line=10'>11</a>\u001b[0m \u001b[39melif\u001b[39;00m BMI \u001b[39m<\u001b[39m\u001b[39m=\u001b[39m \u001b[39m24.9\u001b[39m:\n",
      "\u001b[1;31mTypeError\u001b[0m: '<=' not supported between instances of 'function' and 'float'"
     ]
    }
   ],
   "source": [
    "#_03\n",
    "def bmi_calc(weight , height):\n",
    "    BMI= weight/((height/100)**2)\n",
    "\n",
    "if BMI <= 18.4:\n",
    "        print(\"You are underweight\")\n",
    "elif BMI <= 24.9:\n",
    "        print(\"You are healthy\")\n",
    "elif BMI <= 29.9:\n",
    "        print(\"You are overweight\")\n",
    "elif BMI <= 34.9:\n",
    "        print(\"You are obese\")\n",
    "elif BMI <= 39.9:\n",
    "        print(\"You are extremely obese\")\n",
    "else:\n",
    "        print(\"You need Exercise Schedule. Allah ki panah hai, kam khaya karo or excercisekia karo\")\n",
    "return BMI\n",
    "# print(\"Your BMI is: \", BMI)"
   ]
  },
  {
   "cell_type": "code",
   "execution_count": null,
   "metadata": {},
   "outputs": [
    {
     "data": {
      "text/plain": [
       "25.209201358495854"
      ]
     },
     "execution_count": 19,
     "metadata": {},
     "output_type": "execute_result"
    }
   ],
   "source": [
    "bmi_calc(72,169)"
   ]
  },
  {
   "cell_type": "code",
   "execution_count": null,
   "metadata": {},
   "outputs": [
    {
     "ename": "",
     "evalue": "",
     "output_type": "error",
     "traceback": [
      "\u001b[1;31mRunning cells with 'Python 3.8.13' requires ipykernel package.\n",
      "\u001b[1;31mRun the following command to install 'ipykernel' into the Python environment. \n",
      "\u001b[1;31mCommand: 'conda install -p c:\\Users\\Dell\\miniconda3\\envs\\mamba_trial ipykernel --update-deps --force-reinstall'"
     ]
    }
   ],
   "source": [
    "\n",
    "\n",
    "python --version\n"
   ]
  }
 ],
 "metadata": {
  "kernelspec": {
   "display_name": "Python 3.10.8 64-bit",
   "language": "python",
   "name": "python3"
  },
  "language_info": {
   "codemirror_mode": {
    "name": "ipython",
    "version": 3
   },
   "file_extension": ".py",
   "mimetype": "text/x-python",
   "name": "python",
   "nbconvert_exporter": "python",
   "pygments_lexer": "ipython3",
   "version": "3.10.8"
  },
  "orig_nbformat": 4,
  "vscode": {
   "interpreter": {
    "hash": "76d7c06053c3456e5600312cec90888656fc0ed30c03d8425b9dac6e4fc8e014"
   }
  }
 },
 "nbformat": 4,
 "nbformat_minor": 2
}
